{
  "nbformat": 4,
  "nbformat_minor": 0,
  "metadata": {
    "colab": {
      "provenance": [],
      "authorship_tag": "ABX9TyMLHXpN4gbuHffj3fiZ/DDz",
      "include_colab_link": true
    },
    "kernelspec": {
      "name": "python3",
      "display_name": "Python 3"
    },
    "language_info": {
      "name": "python"
    }
  },
  "cells": [
    {
      "cell_type": "markdown",
      "metadata": {
        "id": "view-in-github",
        "colab_type": "text"
      },
      "source": [
        "<a href=\"https://colab.research.google.com/github/ShrutiThakur3/VCET-DS/blob/main/Basic_of_Python.ipynb\" target=\"_parent\"><img src=\"https://colab.research.google.com/assets/colab-badge.svg\" alt=\"Open In Colab\"/></a>"
      ]
    },
    {
      "cell_type": "markdown",
      "source": [
        " **Basics**"
      ],
      "metadata": {
        "id": "AUjC5U6SPXI7"
      }
    },
    {
      "cell_type": "code",
      "source": [
        "print(\"Hello World!\")"
      ],
      "metadata": {
        "colab": {
          "base_uri": "https://localhost:8080/"
        },
        "id": "xshBxU6uXDqq",
        "outputId": "ebced4f1-5563-4e61-f5ad-53ca2c87f2f7"
      },
      "execution_count": null,
      "outputs": [
        {
          "output_type": "stream",
          "name": "stdout",
          "text": [
            "Hello World!\n"
          ]
        }
      ]
    },
    {
      "cell_type": "code",
      "source": [
        "x=5\n",
        "m=6\n",
        "y=\"9\"\n",
        "z=\"2\"\n",
        "print(type(x))\n",
        "print(type(y))\n",
        "print(x+m)\n",
        "print(y+z)"
      ],
      "metadata": {
        "colab": {
          "base_uri": "https://localhost:8080/"
        },
        "id": "8JO1gHF6Ap9p",
        "outputId": "6b608c74-2071-4d2d-ff5a-e36c8a115767"
      },
      "execution_count": null,
      "outputs": [
        {
          "output_type": "stream",
          "name": "stdout",
          "text": [
            "<class 'int'>\n",
            "<class 'str'>\n",
            "11\n",
            "92\n"
          ]
        }
      ]
    },
    {
      "cell_type": "code",
      "source": [
        "#typecasting\n",
        "a=int(z)\n",
        "print(a+m)\n",
        "\"\"\" is used to comment multiple line \"\"\""
      ],
      "metadata": {
        "colab": {
          "base_uri": "https://localhost:8080/",
          "height": 52
        },
        "id": "9d9jDTo5BNeB",
        "outputId": "532cd009-2ac3-4ae2-90a5-68b8a85a2aeb"
      },
      "execution_count": null,
      "outputs": [
        {
          "output_type": "stream",
          "name": "stdout",
          "text": [
            "8\n"
          ]
        },
        {
          "output_type": "execute_result",
          "data": {
            "text/plain": [
              "' is used to comment multiple line '"
            ],
            "application/vnd.google.colaboratory.intrinsic+json": {
              "type": "string"
            }
          },
          "metadata": {},
          "execution_count": 3
        }
      ]
    },
    {
      "cell_type": "code",
      "source": [
        "#list        mutable--> the values can be change\n",
        "l1=['h1',1,7,'list',6.7,9.5,[3,59,'hello']]\n",
        "l2=l1[6][2]  #indexerror: list index out of range  if l2=l1[6][5]\n",
        "print(l2)\n",
        "length=len(l1)\n",
        "print(length)"
      ],
      "metadata": {
        "colab": {
          "base_uri": "https://localhost:8080/"
        },
        "id": "h0k23-bfCUaw",
        "outputId": "75c5c613-a8d1-487c-81f3-c0ae67d69ae6"
      },
      "execution_count": null,
      "outputs": [
        {
          "output_type": "stream",
          "name": "stdout",
          "text": [
            "hello\n",
            "7\n"
          ]
        }
      ]
    },
    {
      "cell_type": "code",
      "source": [
        "#pyhton program to illlutstarte a list\n",
        "# create a empty list\n",
        "\n",
        "num=[]\n",
        "\n",
        "# appending a data in list\n",
        "num.append(21)\n",
        "num.append(40.5)\n",
        "num.append(\"String\")\n",
        "print(num)"
      ],
      "metadata": {
        "colab": {
          "base_uri": "https://localhost:8080/"
        },
        "id": "uJEHKqu5Dexw",
        "outputId": "fa49d67d-5f0e-448a-acc3-1df58222844d"
      },
      "execution_count": null,
      "outputs": [
        {
          "output_type": "stream",
          "name": "stdout",
          "text": [
            "[21, 40.5, 'String']\n"
          ]
        }
      ]
    },
    {
      "cell_type": "code",
      "source": [
        "#tuple\n",
        "t1=(1,3,7)\n",
        "print(t1)"
      ],
      "metadata": {
        "colab": {
          "base_uri": "https://localhost:8080/"
        },
        "id": "e_XlrLWcFqZ9",
        "outputId": "be7dc8bd-78e9-4fc3-b2e3-56fd897e343b"
      },
      "execution_count": null,
      "outputs": [
        {
          "output_type": "stream",
          "name": "stdout",
          "text": [
            "(1, 3, 7)\n"
          ]
        }
      ]
    },
    {
      "cell_type": "code",
      "source": [
        "#dictionary\n",
        "d1={'Name':'XYZ','Age':21,'Proff':'student'}\n",
        "print(d1)\n",
        "print(type(d1))\n",
        "print(d1.keys())\n",
        "print(d1.items())\n",
        "print(d1.values())\n",
        "print(d1['Name'])"
      ],
      "metadata": {
        "colab": {
          "base_uri": "https://localhost:8080/"
        },
        "id": "3whQJFTOFzuq",
        "outputId": "33045ee5-669f-4d4f-eec2-d56e2a92ad14"
      },
      "execution_count": null,
      "outputs": [
        {
          "output_type": "stream",
          "name": "stdout",
          "text": [
            "{'Name': 'XYZ', 'Age': 21, 'Proff': 'student'}\n",
            "<class 'dict'>\n",
            "dict_keys(['Name', 'Age', 'Proff'])\n",
            "dict_items([('Name', 'XYZ'), ('Age', 21), ('Proff', 'student')])\n",
            "dict_values(['XYZ', 21, 'student'])\n",
            "XYZ\n"
          ]
        }
      ]
    },
    {
      "cell_type": "code",
      "source": [
        "#accepting integer from the user\n",
        "#the return type of input() function is string\n",
        "#so we need to convert the integer\n",
        "num1=int(input(\"Enter a num1: \"))\n",
        "num2=int(input(\"Enter the num2:\"))\n",
        "num3=num1+num2\n",
        "print(num3)\n"
      ],
      "metadata": {
        "colab": {
          "base_uri": "https://localhost:8080/"
        },
        "id": "1tR7ut0qG2qt",
        "outputId": "c535b37e-a6d6-4811-f8ac-c52a56057b26"
      },
      "execution_count": null,
      "outputs": [
        {
          "output_type": "stream",
          "name": "stdout",
          "text": [
            "Enter a num1: 21\n",
            "Enter the num2:12\n",
            "33\n"
          ]
        }
      ]
    },
    {
      "cell_type": "code",
      "source": [
        "num=int(input(\"Enter the number: \"))\n",
        "if (num>12):\n",
        "  print(\"num1 is good\")\n",
        "elif(num1>35):\n",
        "  print(\"not good\")\n",
        "else:\n",
        "  print(\"great\")"
      ],
      "metadata": {
        "colab": {
          "base_uri": "https://localhost:8080/"
        },
        "id": "JhdZdDFCIZbR",
        "outputId": "50b5fb01-0719-4c0c-e6e7-31e6641ccf4d"
      },
      "execution_count": null,
      "outputs": [
        {
          "output_type": "stream",
          "name": "stdout",
          "text": [
            "Enter the number: 13\n",
            "num1 is good\n"
          ]
        }
      ]
    },
    {
      "cell_type": "code",
      "source": [],
      "metadata": {
        "id": "IaWth6CjZBj2"
      },
      "execution_count": null,
      "outputs": []
    }
  ]
}