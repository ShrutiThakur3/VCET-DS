{
  "nbformat": 4,
  "nbformat_minor": 0,
  "metadata": {
    "colab": {
      "provenance": [],
      "authorship_tag": "ABX9TyOOQP6y8vease5WwPWawcUG",
      "include_colab_link": true
    },
    "kernelspec": {
      "name": "python3",
      "display_name": "Python 3"
    },
    "language_info": {
      "name": "python"
    }
  },
  "cells": [
    {
      "cell_type": "markdown",
      "metadata": {
        "id": "view-in-github",
        "colab_type": "text"
      },
      "source": [
        "<a href=\"https://colab.research.google.com/github/ShrutiThakur3/VCET-DS/blob/main/Numpy.ipynb\" target=\"_parent\"><img src=\"https://colab.research.google.com/assets/colab-badge.svg\" alt=\"Open In Colab\"/></a>"
      ]
    },
    {
      "cell_type": "markdown",
      "source": [
        " **Numpy**"
      ],
      "metadata": {
        "id": "bbUHOEUJWh_E"
      }
    },
    {
      "cell_type": "code",
      "source": [
        "#In this example, we are creating a two-dimensional array that has the rank of 2 as it has 2 axes.\n",
        "#The first axis(dimension) is of length 2, i.e., the number of rows, and the second axis(dimension) is of length 3,\n",
        "#i.e., the number of columns. The overall shape of the array can be represented as (2, 3)\n",
        "# Creating array object\n",
        "\n",
        "import numpy as np\n",
        "arr=np.array([[1,2,3],[4,2,5]] )\n",
        "print(\"Array is of type:\", type(arr))\n",
        "print(\"No of dimension:\",arr.ndim)\n",
        "print(\"Shpe of the aarray:\", arr.shape)\n",
        "print(\"size of array:\", arr.size)\n",
        "print(\"data type:\", arr.dtype)"
      ],
      "metadata": {
        "colab": {
          "base_uri": "https://localhost:8080/"
        },
        "id": "XlPlFf3ZI4rh",
        "outputId": "befd90bd-a6d3-4d8e-da11-09756b0f5d54"
      },
      "execution_count": null,
      "outputs": [
        {
          "output_type": "stream",
          "name": "stdout",
          "text": [
            "Array is of type: <class 'numpy.ndarray'>\n",
            "No of dimension: 2\n",
            "Shpe of the aarray: (2, 3)\n",
            "size of array: 6\n",
            "data type: int64\n"
          ]
        }
      ]
    },
    {
      "cell_type": "code",
      "source": [
        "import numpy as np\n",
        "arr=np.array([1,2,3])\n",
        "print(\"Array with Rank 1:\\n\",arr)\n",
        "arr=np.array([[1,2,3],[4,5,6]] )\n",
        "print(\"array with rank 2:\\n\",arr)\n",
        "arr=np.array((1,3,2))\n",
        "print(\"\\n Array created using\"\"passed tuple:\\n\", arr)"
      ],
      "metadata": {
        "colab": {
          "base_uri": "https://localhost:8080/"
        },
        "id": "xd-tFwCBJ1r1",
        "outputId": "dd0a3c58-fa69-4d47-d2e5-8cc1d044e498"
      },
      "execution_count": null,
      "outputs": [
        {
          "output_type": "stream",
          "name": "stdout",
          "text": [
            "Array with Rank 1:\n",
            " [1 2 3]\n",
            "array with rank 2:\n",
            " [[1 2 3]\n",
            " [4 5 6]]\n",
            "\n",
            " Array created usingpassed tuple:\n",
            " [1 3 2]\n"
          ]
        }
      ]
    },
    {
      "cell_type": "code",
      "source": [
        "import numpy as np\n",
        "\n",
        "# creating array\n",
        "arr = np.array([2, 4, 6, 8, 10])\n",
        "\n",
        "# creating copy of array\n",
        "c = arr.copy()\n",
        "\n",
        "# both arr and c have different id\n",
        "print(\"id of arr\", id(arr))\n",
        "print(\"id of c\", id(c))\n",
        "\n",
        "# changing original array\n",
        "# this will not effect copy\n",
        "arr[0] = 12\n",
        "\n",
        "# printing array and copy\n",
        "print(\"original array- \", arr)\n",
        "print(\"copy- \", c)"
      ],
      "metadata": {
        "colab": {
          "base_uri": "https://localhost:8080/"
        },
        "id": "xRIyQEMZYTx0",
        "outputId": "0a2d9f64-2463-431b-cc04-ca621e5177c3"
      },
      "execution_count": null,
      "outputs": [
        {
          "output_type": "stream",
          "name": "stdout",
          "text": [
            "id of arr 138218491005904\n",
            "id of c 138218491008496\n",
            "original array-  [12  4  6  8 10]\n",
            "copy-  [ 2  4  6  8 10]\n"
          ]
        }
      ]
    },
    {
      "cell_type": "code",
      "source": [
        "# Let's define our function\n",
        "# Parameters: Input Array\n",
        "def sum(array):\n",
        "\n",
        "\t# Set variable for our final answer\n",
        "\tsum = 0\n",
        "\n",
        "\t# Parse through our array\n",
        "\tfor i in array:\n",
        "\t\t# Continuously add current element\n",
        "\t\t# to final sum\n",
        "\t\tsum += i\n",
        "\t# Return our sum\n",
        "\treturn sum\n",
        "# Create a test array\n",
        "testArray = [1, 3, 34, 92, 29, 48, 20.3]\n",
        "\n",
        "# Test our function\n",
        "print('The sum of your numbers is ' + str(sum(testArray)))"
      ],
      "metadata": {
        "colab": {
          "base_uri": "https://localhost:8080/"
        },
        "id": "7JchX1ArYb1P",
        "outputId": "e61bac71-d20f-4ed7-d6cb-e8047df0e76a"
      },
      "execution_count": null,
      "outputs": [
        {
          "output_type": "stream",
          "name": "stdout",
          "text": [
            "The sum of your numbers is 227.3\n"
          ]
        }
      ]
    },
    {
      "cell_type": "code",
      "source": [
        "# Create a sequence of integers from 10 to 1 with a step of -2\n",
        "\n",
        "import numpy as np\n",
        "a=np.arange(10,1,-2)\n",
        "print(\" a sequential array with a negative step:\\n\",a)\n",
        "\n",
        "# Indexes are specified inside the np.array method.\n",
        "newarr=a[np.array([3,1,2])]\n",
        "print(\"\\n Elements at these indices are:\\n\",newarr)\n"
      ],
      "metadata": {
        "colab": {
          "base_uri": "https://localhost:8080/"
        },
        "id": "hftrhpaSLDKA",
        "outputId": "79c647ff-41f0-4848-f85b-ad7a87ad6a55"
      },
      "execution_count": null,
      "outputs": [
        {
          "output_type": "stream",
          "name": "stdout",
          "text": [
            " a sequential array with a negative step:\n",
            " [10  8  6  4  2]\n",
            "\n",
            " Elements at these indices are:\n",
            " [4 8 6]\n"
          ]
        }
      ]
    },
    {
      "cell_type": "code",
      "source": [
        "#The result includes the start index, but excludes the end index\n",
        "import numpy as np\n",
        "\n",
        "arr = np.array([1, 2, 3, 4, 5, 6, 7])\n",
        "\n",
        "print(arr[1:5])\n",
        "print(arr[4:])\n",
        "print(arr[:4])\n",
        "print(arr[-3:-1])\n",
        "print(arr[1:5:2])\n",
        "print(arr[::2])"
      ],
      "metadata": {
        "colab": {
          "base_uri": "https://localhost:8080/"
        },
        "id": "3nxdxGQwYyzG",
        "outputId": "a2b0b1b6-d3f8-43ef-940f-dd6380a70277"
      },
      "execution_count": null,
      "outputs": [
        {
          "output_type": "stream",
          "name": "stdout",
          "text": [
            "[2 3 4 5]\n",
            "[5 6 7]\n",
            "[1 2 3 4]\n",
            "[5 6]\n",
            "[2 4]\n",
            "[1 3 5 7]\n"
          ]
        }
      ]
    },
    {
      "cell_type": "code",
      "source": [
        "import numpy as np\n",
        "arr = np.array([[1, 2, 3, 4, 5], [6, 7, 8, 9, 10]])\n",
        "print(arr[1, 1:4])\n",
        "print(arr[0:2, 2])\n",
        "print(arr[0:2, 1:4])"
      ],
      "metadata": {
        "colab": {
          "base_uri": "https://localhost:8080/"
        },
        "id": "BKLO_9LSY3p4",
        "outputId": "625db73a-af39-4b16-86fc-c36755ebacd7"
      },
      "execution_count": null,
      "outputs": [
        {
          "output_type": "stream",
          "name": "stdout",
          "text": [
            "[7 8 9]\n",
            "[3 8]\n",
            "[[2 3 4]\n",
            " [7 8 9]]\n"
          ]
        }
      ]
    },
    {
      "cell_type": "code",
      "source": [
        "#The copy SHOULD NOT be affected by the changes made to the original array.\n",
        "import numpy as np\n",
        "arr = np.array([1, 2, 3, 4, 5])\n",
        "x = arr.copy()\n",
        "arr[0] = 42\n",
        "print(arr)\n",
        "print(x)"
      ],
      "metadata": {
        "colab": {
          "base_uri": "https://localhost:8080/"
        },
        "id": "QHhbVuM5Y8Eh",
        "outputId": "c57a612b-b40c-488d-80cc-9de0dcc4376f"
      },
      "execution_count": null,
      "outputs": [
        {
          "output_type": "stream",
          "name": "stdout",
          "text": [
            "[42  2  3  4  5]\n",
            "[1 2 3 4 5]\n"
          ]
        }
      ]
    },
    {
      "cell_type": "code",
      "source": [
        "#The view SHOULD be affected by the changes made to the original array.\n",
        "import numpy as np\n",
        "arr=np.array([1,2,3,4,2,5] )\n",
        "x=arr.view()\n",
        "arr[0]=42\n",
        "print(arr)\n",
        "print(x)"
      ],
      "metadata": {
        "colab": {
          "base_uri": "https://localhost:8080/"
        },
        "id": "CY0_6W7CM2iP",
        "outputId": "ebabebb5-1cbd-4f08-8b28-1ea030d9d508"
      },
      "execution_count": null,
      "outputs": [
        {
          "output_type": "stream",
          "name": "stdout",
          "text": [
            "[42  2  3  4  2  5]\n",
            "[42  2  3  4  2  5]\n"
          ]
        }
      ]
    },
    {
      "cell_type": "code",
      "source": [
        "import numpy as np\n",
        "arr = np.array([1, 2, 3, 4, 5])\n",
        "x = arr.view()\n",
        "x[0] = 42\n",
        "print(arr)\n",
        "print(x)"
      ],
      "metadata": {
        "colab": {
          "base_uri": "https://localhost:8080/"
        },
        "id": "rFDdQcUBdl3w",
        "outputId": "8de4563b-afc2-4846-ac50-ab3cfdd97ff8"
      },
      "execution_count": null,
      "outputs": [
        {
          "output_type": "stream",
          "name": "stdout",
          "text": [
            "[42  2  3  4  5]\n",
            "[42  2  3  4  5]\n"
          ]
        }
      ]
    },
    {
      "cell_type": "code",
      "source": [
        "import numpy as np\n",
        "\n",
        "arr = np.array([1, 2, 3, 4, 5])\n",
        "x = arr.copy()\n",
        "y = arr.view()\n",
        "print(x.base)\n",
        "print(y.base)"
      ],
      "metadata": {
        "colab": {
          "base_uri": "https://localhost:8080/"
        },
        "id": "B4t_MMI1ZPJE",
        "outputId": "fa01b7d6-9b9e-4178-f0d1-2eff067684d1"
      },
      "execution_count": null,
      "outputs": [
        {
          "output_type": "stream",
          "name": "stdout",
          "text": [
            "None\n",
            "[1 2 3 4 5]\n"
          ]
        }
      ]
    },
    {
      "cell_type": "code",
      "source": [
        "import numpy as np\n",
        "arr = np.array([[1, 2, 3, 4], [5, 6, 7, 8]])\n",
        "print(arr.shape)\n"
      ],
      "metadata": {
        "colab": {
          "base_uri": "https://localhost:8080/"
        },
        "id": "ZkGJxYxtZS6l",
        "outputId": "bab2f1dd-6db0-4a72-c7cf-03a5c59ddc11"
      },
      "execution_count": null,
      "outputs": [
        {
          "output_type": "stream",
          "name": "stdout",
          "text": [
            "(2, 4)\n"
          ]
        }
      ]
    },
    {
      "cell_type": "code",
      "source": [
        "# Create an array with 5 dimensions using ndmin\n",
        "#using a vector with values 1,2,3,4 and verify that last dimension has value 4:\n",
        "import numpy as np\n",
        "arr=np.array([1,2,3,4], ndmin=5)\n",
        "print(arr)\n",
        "print('Shape of array:',arr.shape)"
      ],
      "metadata": {
        "colab": {
          "base_uri": "https://localhost:8080/"
        },
        "id": "rsPbGIdxOJ7i",
        "outputId": "bcc8176d-c34a-4dbe-d2bc-2a6cc7663a83"
      },
      "execution_count": null,
      "outputs": [
        {
          "output_type": "stream",
          "name": "stdout",
          "text": [
            "[[[[[1 2 3 4]]]]]\n",
            "Shape of array: (1, 1, 1, 1, 4)\n"
          ]
        }
      ]
    },
    {
      "cell_type": "code",
      "source": [
        "#Convert the following 1-D array with 12 elements into a 2-D array.\n",
        "\n",
        "#The outermost dimension will have 4 arrays, each with 3 elements:\n",
        "\n",
        "import numpy as np\n",
        "arr = np.array([1, 2, 3, 4, 5, 6, 7, 8, 9, 10, 11, 12])\n",
        "newarr = arr.reshape(4, 3)\n",
        "print(newarr)\n",
        "\n",
        "#The outermost dimension will have 2 arrays that contains 3 arrays, each with 2 elements:\n",
        "newarr = arr.reshape(2, 3, 2)\n",
        "print(newarr)"
      ],
      "metadata": {
        "colab": {
          "base_uri": "https://localhost:8080/"
        },
        "id": "kwU9t1X3Zp35",
        "outputId": "9ffedc20-0c39-472a-8e68-e6aefb95463f"
      },
      "execution_count": null,
      "outputs": [
        {
          "output_type": "stream",
          "name": "stdout",
          "text": [
            "[[ 1  2  3]\n",
            " [ 4  5  6]\n",
            " [ 7  8  9]\n",
            " [10 11 12]]\n",
            "[[[ 1  2]\n",
            "  [ 3  4]\n",
            "  [ 5  6]]\n",
            "\n",
            " [[ 7  8]\n",
            "  [ 9 10]\n",
            "  [11 12]]]\n"
          ]
        }
      ]
    },
    {
      "cell_type": "code",
      "source": [
        "# Python code to demonstrate matrix operations\n",
        "# add(), subtract() and divide()\n",
        "\n",
        "# importing numpy for matrix operations\n",
        "import numpy\n",
        "\n",
        "# initializing matrices\n",
        "x = numpy.array([[1, 2], [4, 5]])\n",
        "y = numpy.array([[7, 8], [9, 10]])\n",
        "\n",
        "# using add() to add matrices\n",
        "print (\"The element wise addition of matrix is : \")\n",
        "print (numpy.add(x,y))\n",
        "\n",
        "# using subtract() to subtract matrices\n",
        "print (\"The element wise subtraction of matrix is : \")\n",
        "print (numpy.subtract(x,y))\n",
        "\n",
        "# using divide() to divide matrices\n",
        "print (\"The element wise division of matrix is : \")\n",
        "print (numpy.divide(x,y))\n"
      ],
      "metadata": {
        "colab": {
          "base_uri": "https://localhost:8080/"
        },
        "id": "WUiE0wYJZp7Q",
        "outputId": "be8f4c8a-586f-4ab9-904c-15da2f93f32e"
      },
      "execution_count": null,
      "outputs": [
        {
          "output_type": "stream",
          "name": "stdout",
          "text": [
            "The element wise addition of matrix is : \n",
            "[[ 8 10]\n",
            " [13 15]]\n",
            "The element wise subtraction of matrix is : \n",
            "[[-6 -6]\n",
            " [-5 -5]]\n",
            "The element wise division of matrix is : \n",
            "[[0.14285714 0.25      ]\n",
            " [0.44444444 0.5       ]]\n"
          ]
        }
      ]
    }
  ]
}